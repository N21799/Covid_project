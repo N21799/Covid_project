{
 "cells": [
  {
   "cell_type": "code",
   "execution_count": null,
   "metadata": {},
   "outputs": [],
   "source": [
    "# Project Code\n",
    "\n",
    "import pandas as pd\n",
    "import matplotlib.pyplot as plt\n",
    "plt.style.use(\"ggplot\")\n",
    "%matplotlib inline\n",
    "\n",
    "def covid():\n",
    "    df_cases = pd.read_csv(\"https://github.com/CSSEGISandData/COVID-19/raw/master/csse_covid_19_data/csse_covid_19_time_series/time_series_covid19_confirmed_US.csv\")\n",
    "    df_deaths = pd.read_csv(\"https://github.com/CSSEGISandData/COVID-19/raw/master/csse_covid_19_data/csse_covid_19_time_series/time_series_covid19_deaths_US.csv\")\n",
    "\n",
    "    df_cases.drop([\"UID\", \"iso2\", \"iso3\", \"code3\", \"FIPS\", \"Country_Region\", \"Lat\", \"Long_\"], axis = 1, inplace = True)\n",
    "    df_deaths.drop([\"UID\", \"iso2\", \"iso3\", \"code3\", \"FIPS\", \"Country_Region\", \"Lat\", \"Long_\"], axis = 1, inplace = True)\n",
    "\n",
    "    df_cases.rename(columns = {\"Admin2\":\"county\", \"Province_State\":\"state\", \"Combined_Key\":\"county_state\"}, inplace = True)\n",
    "    df_deaths.rename(columns = {\"Admin2\":\"county\", \"Province_State\":\"state\", \"Combined_Key\":\"county_state\"}, inplace = True)\n",
    "\n",
    "    df_cases_melted = pd.melt(df_cases, id_vars = ['county', 'state', 'county_state'], var_name = \"dates\", value_name = \"cases\")\n",
    "    df_deaths_melted = pd.melt(df_deaths, id_vars = ['county', 'state', 'county_state'], var_name = \"dates\", value_name = \"deaths\")\n",
    "\n",
    "    df_merged = pd.merge(df_cases_melted, df_deaths_melted, how = 'left', on = ['county', 'state', 'county_state', 'dates'])\n",
    "    df_merged['dates'] = pd.to_datetime(df_merged['dates'])\n",
    "    df_merged['us_outbreak'] = df_merged['dates'] - df_merged['dates'].min()\n",
    "\n",
    "    df_state_cases = df_merged.groupby([\"state\", \"us_outbreak\", \"dates\"], as_index = False)[\"cases\"].sum()\n",
    "    df_state_cases[\"new_cases\"] = df_state_cases[\"cases\"].diff()\n",
    "\n",
    "    df_state_deaths = df_merged.groupby([\"state\", \"us_outbreak\", \"dates\"], as_index = False)[\"deaths\"].sum()\n",
    "    df_state_deaths[\"new_deaths\"] = df_state_deaths[\"deaths\"].diff()\n",
    "    \n",
    "    df_state_merged = pd.merge(df_state_cases, df_state_deaths, how = 'left', on = ['state', 'dates', 'us_outbreak'])\n",
    "    \n",
    "    name = input(\"Hello. Please enter your name: \")\n",
    "    print(f\"\\n\\nIt has been {df_state_merged['us_outbreak'].iloc[-1].days} days since the US outbreak of COVID-19. For which state would you like to view COVID-19 information?\")\n",
    "    us_state = input(\"\\tEnter state: \")\n",
    "    df_state_subset = df_state_merged[df_state_merged['state'] == us_state]\n",
    "    print(f\"\\nOkay, {name}. Here's the information for {us_state}:\\n\")\n",
    "    print(f\"Based on the last reported date: {df_state_merged['dates'].iloc[-1].strftime('%m/%d/%Y')}, the number of new COVID-19 cases in {us_state} is {int(df_state_subset['new_cases'].iloc[-1])}.\")\n",
    "    print(f\"The number of new deaths is {int(df_state_subset['new_deaths'].iloc[-1])}.\\n\")\n",
    "    if df_state_subset['new_cases'].iloc[-1] >= df_state_subset['new_cases'].iloc[-2]:\n",
    "        cases_change = \"increased\"\n",
    "    else:\n",
    "        cases_change = \"decreased\"\n",
    "    if df_state_subset[\"new_deaths\"].iloc[-1] >= df_state_subset[\"new_deaths\"].iloc[-2]:\n",
    "        deaths_change = \"increased\"\n",
    "    else:\n",
    "        deaths_change = \"decreased\"\n",
    "    print(f\"The number of cases {cases_change} from the previous day count of {int(df_state_subset['new_cases'].iloc[-2])}.\")\n",
    "    print(f\"The number of deaths {deaths_change} from the previous day count of {int(df_state_subset['new_deaths'].iloc[-2])}.\\n\")\n",
    "    print(f\"The total number of COVID-19 cases in {us_state} is {int(df_state_subset['cases'].iloc[-1])} and the total number of reported deaths is {int(df_state_subset['deaths'].iloc[-1])}.\\n\")\n",
    "    print(f\"{name}, please select which data visualization to view for {us_state}:\")\n",
    "    print(\"\\tEnter 1 to view the 15-day trend for new reported cases.\")\n",
    "    print(\"\\tEnter 2 to view the 15-day trend for new reported deaths.\")\n",
    "    data_visual = int(input(\"Enter number: \"))\n",
    "    if data_visual == 1:\n",
    "        plt.figure(figsize = (10,8)) \n",
    "        plt.bar(df_state_subset['dates'].iloc[-15:].astype(str), df_state_subset['new_cases'].iloc[-15:])\n",
    "        plt.xticks(rotation = 90)\n",
    "        plt.xlabel(\"Date\")\n",
    "        plt.ylabel(\"Count\")\n",
    "        plt.title(f\"{us_state} COVID-19 Cases\")\n",
    "        plt.show()\n",
    "        print(f\"The 15-day average of new reported cases is {int(df_state_subset['new_cases'].iloc[-15:].mean())}, ranging between {int(df_state_subset['new_cases'].iloc[-15:].min())} and {int(df_state_subset['new_cases'].iloc[-15:].max())}.\")\n",
    "    if data_visual == 2:\n",
    "        plt.figure(figsize = (10,8))\n",
    "        plt.bar(df_state_subset['dates'].iloc[-15:].astype(str), df_state_subset['new_deaths'].iloc[-15:])\n",
    "        plt.xticks(rotation = 90)\n",
    "        plt.xlabel(\"Date\")\n",
    "        plt.ylabel(\"Count\")\n",
    "        plt.title(f\"{us_state} COVID-19 Deaths\")\n",
    "        plt.show()\n",
    "        print(f\"The 15-day average of new reported deaths is {int(df_state_subset['new_deaths'].iloc[-15:].mean())}, ranging between {int(df_state_subset['new_deaths'].iloc[-15:].min())} and {int(df_state_subset['new_deaths'].iloc[-15:].max())}.\")"
   ]
  },
  {
   "cell_type": "code",
   "execution_count": 2,
   "metadata": {},
   "outputs": [
    {
     "name": "stdout",
     "output_type": "stream",
     "text": [
      "Hello. Please enter your name: Nam Anh\n",
      "\n",
      "\n",
      "It has been 1114 days since the US outbreak of COVID-19. For which state would you like to view COVID-19 information?\n",
      "\tEnter state: Virginia\n",
      "\n",
      "Okay, Nam Anh. Here's the information for Virginia:\n",
      "\n",
      "Based on the last reported date: 02/09/2023, the number of new COVID-19 cases in Virginia is 0.\n",
      "The number of new deaths is 0.\n",
      "\n",
      "The number of cases decreased from the previous day count of 71.\n",
      "The number of deaths decreased from the previous day count of 39.\n",
      "\n",
      "The total number of COVID-19 cases in Virginia is 2269006 and the total number of reported deaths is 23462.\n",
      "\n",
      "Nam Anh, please select which data visualization to view for Virginia:\n",
      "\tEnter 1 to view the 15-day trend for new reported cases.\n",
      "\tEnter 2 to view the 15-day trend for new reported deaths.\n",
      "Enter number: 1\n"
     ]
    },
    {
     "data": {
      "image/png": "[encoded data removed]",
      "text/plain": [
       "<Figure size 720x576 with 1 Axes>"
      ]
     },
     "metadata": {
      "needs_background": "light"
     },
     "output_type": "display_data"
    },
    {
     "name": "stdout",
     "output_type": "stream",
     "text": [
      "The 15-day average of new reported cases is 1197, ranging between 0 and 9754.\n"
     ]
    }
   ],
   "source": [
    "# COVID-19 cases\n",
    "\n",
    "covid()"
   ]
  },
  {
   "cell_type": "code",
   "execution_count": null,
   "metadata": {},
   "outputs": [],
   "source": [
    "# COVID-19 deaths\n",
    "\n",
    "covid()"
   ]
  },
  {
   "cell_type": "code",
   "execution_count": null,
   "metadata": {},
   "outputs": [],
   "source": []
  }
 ],
 "metadata": {
  "kernelspec": {
   "display_name": "Python 3",
   "language": "python",
   "name": "python3"
  },
  "language_info": {
   "codemirror_mode": {
    "name": "ipython",
    "version": 3
   },
   "file_extension": ".py",
   "mimetype": "text/x-python",
   "name": "python",
   "nbconvert_exporter": "python",
   "pygments_lexer": "ipython3",
   "version": "3.8.3"
  }
 },
 "nbformat": 4,
 "nbformat_minor": 4
}
